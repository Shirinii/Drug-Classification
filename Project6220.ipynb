{
  "nbformat": 4,
  "nbformat_minor": 0,
  "metadata": {
    "colab": {
      "provenance": [],
      "authorship_tag": "ABX9TyMeGRHQTBCgOgrjXes+9nJg",
      "include_colab_link": true
    },
    "kernelspec": {
      "name": "python3",
      "display_name": "Python 3"
    },
    "language_info": {
      "name": "python"
    }
  },
  "cells": [
    {
      "cell_type": "markdown",
      "metadata": {
        "id": "view-in-github",
        "colab_type": "text"
      },
      "source": [
        "<a href=\"https://colab.research.google.com/github/Shirinii/Drug-Classification/blob/main/Project6220.ipynb\" target=\"_parent\"><img src=\"https://colab.research.google.com/assets/colab-badge.svg\" alt=\"Open In Colab\"/></a>"
      ]
    },
    {
      "cell_type": "markdown",
      "source": [
        "Classification of drug types based on the patients characterictics\n",
        "\n",
        "Author : Shirin Rezaei\n",
        "\n",
        "StudentID : "
      ],
      "metadata": {
        "id": "LOe75P-si6ci"
      }
    },
    {
      "cell_type": "code",
      "source": [
        "import numpy as np # linear algebra\n",
        "import pandas as pd # data processing\n",
        "import matplotlib.pyplot as plt # Data visualization\n",
        "%matplotlib inline\n",
        "import seaborn as sns; sns.set() # Data visualization\n",
        "from sklearn.decomposition import PCA \n",
        "from sklearn.model_selection import train_test_split\n",
        "from sklearn.svm import SVC\n",
        "from sklearn.metrics import classification_report,confusion_matrix,accuracy_score,precision_score,recall_score\n",
        "from scipy.stats import beta\n",
        "from scipy.stats import f\n",
        "from scipy import stats\n",
        "from sklearn.preprocessing import LabelEncoder\n",
        "from sklearn.model_selection import GridSearchCV\n",
        "import os as os"
      ],
      "metadata": {
        "id": "7eW8-_9-jFLe"
      },
      "execution_count": 47,
      "outputs": []
    },
    {
      "cell_type": "markdown",
      "source": [
        "Read cvs file into dataframe"
      ],
      "metadata": {
        "id": "YdMtdZk_jc5c"
      }
    },
    {
      "cell_type": "code",
      "source": [
        "url = \"https://raw.githubusercontent.com/Shirinii/Drug-Classification/main/drug200.csv?token=GHSAT0AAAAAAB3VO2VUJSGUL4XPPPLXCQ22Y4CQRZA\"\n",
        "drug_data = pd.read_csv(url)\n",
        "print(drug_data.head())\n"
      ],
      "metadata": {
        "colab": {
          "base_uri": "https://localhost:8080/"
        },
        "id": "HgrftnkQkLxv",
        "outputId": "e64dded0-a94c-4bf9-defe-8f26deefb554"
      },
      "execution_count": 51,
      "outputs": [
        {
          "output_type": "stream",
          "name": "stdout",
          "text": [
            "   Age Sex      BP Cholesterol  Potassium_Ration   Drug\n",
            "0   23   F    HIGH        HIGH            25.355  drugY\n",
            "1   47   M     LOW        HIGH            13.093  drugC\n",
            "2   47   M     LOW        HIGH            10.114  drugC\n",
            "3   28   F  NORMAL        HIGH             7.798  drugX\n",
            "4   61   F     LOW        HIGH            18.043  drugY\n"
          ]
        }
      ]
    },
    {
      "cell_type": "markdown",
      "source": [
        "Data Exploration"
      ],
      "metadata": {
        "id": "djGojH8R60yK"
      }
    },
    {
      "cell_type": "code",
      "source": [
        "#size of data\n",
        "m,n=drug_data.shape \n",
        "print([m,n])"
      ],
      "metadata": {
        "colab": {
          "base_uri": "https://localhost:8080/"
        },
        "id": "kBt8XFGO65e8",
        "outputId": "6fe9e3b7-d50f-440b-d45c-b7acd2f29565"
      },
      "execution_count": 52,
      "outputs": [
        {
          "output_type": "stream",
          "name": "stdout",
          "text": [
            "[200, 6]\n"
          ]
        }
      ]
    },
    {
      "cell_type": "markdown",
      "source": [
        "Identify Missing Values\n"
      ],
      "metadata": {
        "id": "AGAzz8g47Cff"
      }
    },
    {
      "cell_type": "code",
      "source": [
        "nan_columns=drug_data.isnull().sum()\n",
        "print(nan_columns)\n",
        "#which rows have null value\n",
        "nan_rows=drug_data[drug_data.isnull().any(1)]\n",
        "print(nan_rows)"
      ],
      "metadata": {
        "colab": {
          "base_uri": "https://localhost:8080/"
        },
        "id": "yw7mtkL77E7f",
        "outputId": "4b7c6936-6e66-40d5-d215-9c7db44ccdf5"
      },
      "execution_count": 53,
      "outputs": [
        {
          "output_type": "stream",
          "name": "stdout",
          "text": [
            "Age                 0\n",
            "Sex                 0\n",
            "BP                  0\n",
            "Cholesterol         0\n",
            "Potassium_Ration    0\n",
            "Drug                0\n",
            "dtype: int64\n",
            "Empty DataFrame\n",
            "Columns: [Age, Sex, BP, Cholesterol, Potassium_Ration, Drug]\n",
            "Index: []\n"
          ]
        }
      ]
    },
    {
      "cell_type": "markdown",
      "source": [
        "There is no data with missing value."
      ],
      "metadata": {
        "id": "ajwZ2lJ09PrG"
      }
    },
    {
      "cell_type": "markdown",
      "source": [
        "Different drug type classes in the data\n",
        "\n"
      ],
      "metadata": {
        "id": "9zi_W2959oAJ"
      }
    },
    {
      "cell_type": "code",
      "source": [
        "#Drug Y (drugY)\n",
        "#Drug C (drugC)\n",
        "#Drug X (drugX)\n",
        "#Drug A (drugA)\n",
        "#Drug B (drugB)\n",
        "print('drug type classes:', drug_data['Drug'].unique())"
      ],
      "metadata": {
        "colab": {
          "base_uri": "https://localhost:8080/"
        },
        "id": "d39VztpW9r_V",
        "outputId": "55a3985a-582f-4dd5-cb5c-bd4da83ce854"
      },
      "execution_count": 54,
      "outputs": [
        {
          "output_type": "stream",
          "name": "stdout",
          "text": [
            "drug type classes: ['drugY' 'drugC' 'drugX' 'drugA' 'drugB']\n"
          ]
        }
      ]
    },
    {
      "cell_type": "markdown",
      "source": [
        "Using LabelEncoder to transform categorical variables into continuous variables\n",
        "\n"
      ],
      "metadata": {
        "id": "W2MHPT3pAC3C"
      }
    },
    {
      "cell_type": "code",
      "source": [
        "df = drug_data.copy()\n",
        "label = LabelEncoder()\n",
        "label.fit(df.Sex.drop_duplicates())\n",
        "df.Sex = label.transform(df.Sex)\n",
        "label.fit(df.BP.drop_duplicates())\n",
        "df.BP = label.transform(df.BP)\n",
        "label.fit(df.Cholesterol.drop_duplicates())\n",
        "df.Cholesterol = label.transform(df.Cholesterol)\n",
        "Y = df['Drug']\n",
        "print(df.head())"
      ],
      "metadata": {
        "colab": {
          "base_uri": "https://localhost:8080/"
        },
        "id": "JXBODWFZBFF3",
        "outputId": "74a5d0e4-d990-4c86-f80b-62ae3172365e"
      },
      "execution_count": 55,
      "outputs": [
        {
          "output_type": "stream",
          "name": "stdout",
          "text": [
            "   Age  Sex  BP  Cholesterol  Potassium_Ration   Drug\n",
            "0   23    0   0            0            25.355  drugY\n",
            "1   47    1   1            0            13.093  drugC\n",
            "2   47    1   1            0            10.114  drugC\n",
            "3   28    0   2            0             7.798  drugX\n",
            "4   61    0   1            0            18.043  drugY\n"
          ]
        }
      ]
    },
    {
      "cell_type": "markdown",
      "source": [
        "Summary of the data\n"
      ],
      "metadata": {
        "id": "XGxe53LkENuf"
      }
    },
    {
      "cell_type": "code",
      "source": [
        "df.describe()\n"
      ],
      "metadata": {
        "colab": {
          "base_uri": "https://localhost:8080/",
          "height": 300
        },
        "id": "M1sbHJ9fEQsX",
        "outputId": "38d32b8b-e0eb-4e15-ebb9-218ecfe78aa2"
      },
      "execution_count": 56,
      "outputs": [
        {
          "output_type": "execute_result",
          "data": {
            "text/plain": [
              "              Age         Sex          BP  Cholesterol  Potassium_Ration\n",
              "count  200.000000  200.000000  200.000000   200.000000        200.000000\n",
              "mean    44.315000    0.520000    0.910000     0.485000         16.084485\n",
              "std     16.544315    0.500854    0.821752     0.501029          7.223956\n",
              "min     15.000000    0.000000    0.000000     0.000000          6.269000\n",
              "25%     31.000000    0.000000    0.000000     0.000000         10.445500\n",
              "50%     45.000000    1.000000    1.000000     0.000000         13.936500\n",
              "75%     58.000000    1.000000    2.000000     1.000000         19.380000\n",
              "max     74.000000    1.000000    2.000000     1.000000         38.247000"
            ],
            "text/html": [
              "\n",
              "  <div id=\"df-d8c24fec-9e58-4657-9f97-9651b45d7d8b\">\n",
              "    <div class=\"colab-df-container\">\n",
              "      <div>\n",
              "<style scoped>\n",
              "    .dataframe tbody tr th:only-of-type {\n",
              "        vertical-align: middle;\n",
              "    }\n",
              "\n",
              "    .dataframe tbody tr th {\n",
              "        vertical-align: top;\n",
              "    }\n",
              "\n",
              "    .dataframe thead th {\n",
              "        text-align: right;\n",
              "    }\n",
              "</style>\n",
              "<table border=\"1\" class=\"dataframe\">\n",
              "  <thead>\n",
              "    <tr style=\"text-align: right;\">\n",
              "      <th></th>\n",
              "      <th>Age</th>\n",
              "      <th>Sex</th>\n",
              "      <th>BP</th>\n",
              "      <th>Cholesterol</th>\n",
              "      <th>Potassium_Ration</th>\n",
              "    </tr>\n",
              "  </thead>\n",
              "  <tbody>\n",
              "    <tr>\n",
              "      <th>count</th>\n",
              "      <td>200.000000</td>\n",
              "      <td>200.000000</td>\n",
              "      <td>200.000000</td>\n",
              "      <td>200.000000</td>\n",
              "      <td>200.000000</td>\n",
              "    </tr>\n",
              "    <tr>\n",
              "      <th>mean</th>\n",
              "      <td>44.315000</td>\n",
              "      <td>0.520000</td>\n",
              "      <td>0.910000</td>\n",
              "      <td>0.485000</td>\n",
              "      <td>16.084485</td>\n",
              "    </tr>\n",
              "    <tr>\n",
              "      <th>std</th>\n",
              "      <td>16.544315</td>\n",
              "      <td>0.500854</td>\n",
              "      <td>0.821752</td>\n",
              "      <td>0.501029</td>\n",
              "      <td>7.223956</td>\n",
              "    </tr>\n",
              "    <tr>\n",
              "      <th>min</th>\n",
              "      <td>15.000000</td>\n",
              "      <td>0.000000</td>\n",
              "      <td>0.000000</td>\n",
              "      <td>0.000000</td>\n",
              "      <td>6.269000</td>\n",
              "    </tr>\n",
              "    <tr>\n",
              "      <th>25%</th>\n",
              "      <td>31.000000</td>\n",
              "      <td>0.000000</td>\n",
              "      <td>0.000000</td>\n",
              "      <td>0.000000</td>\n",
              "      <td>10.445500</td>\n",
              "    </tr>\n",
              "    <tr>\n",
              "      <th>50%</th>\n",
              "      <td>45.000000</td>\n",
              "      <td>1.000000</td>\n",
              "      <td>1.000000</td>\n",
              "      <td>0.000000</td>\n",
              "      <td>13.936500</td>\n",
              "    </tr>\n",
              "    <tr>\n",
              "      <th>75%</th>\n",
              "      <td>58.000000</td>\n",
              "      <td>1.000000</td>\n",
              "      <td>2.000000</td>\n",
              "      <td>1.000000</td>\n",
              "      <td>19.380000</td>\n",
              "    </tr>\n",
              "    <tr>\n",
              "      <th>max</th>\n",
              "      <td>74.000000</td>\n",
              "      <td>1.000000</td>\n",
              "      <td>2.000000</td>\n",
              "      <td>1.000000</td>\n",
              "      <td>38.247000</td>\n",
              "    </tr>\n",
              "  </tbody>\n",
              "</table>\n",
              "</div>\n",
              "      <button class=\"colab-df-convert\" onclick=\"convertToInteractive('df-d8c24fec-9e58-4657-9f97-9651b45d7d8b')\"\n",
              "              title=\"Convert this dataframe to an interactive table.\"\n",
              "              style=\"display:none;\">\n",
              "        \n",
              "  <svg xmlns=\"http://www.w3.org/2000/svg\" height=\"24px\"viewBox=\"0 0 24 24\"\n",
              "       width=\"24px\">\n",
              "    <path d=\"M0 0h24v24H0V0z\" fill=\"none\"/>\n",
              "    <path d=\"M18.56 5.44l.94 2.06.94-2.06 2.06-.94-2.06-.94-.94-2.06-.94 2.06-2.06.94zm-11 1L8.5 8.5l.94-2.06 2.06-.94-2.06-.94L8.5 2.5l-.94 2.06-2.06.94zm10 10l.94 2.06.94-2.06 2.06-.94-2.06-.94-.94-2.06-.94 2.06-2.06.94z\"/><path d=\"M17.41 7.96l-1.37-1.37c-.4-.4-.92-.59-1.43-.59-.52 0-1.04.2-1.43.59L10.3 9.45l-7.72 7.72c-.78.78-.78 2.05 0 2.83L4 21.41c.39.39.9.59 1.41.59.51 0 1.02-.2 1.41-.59l7.78-7.78 2.81-2.81c.8-.78.8-2.07 0-2.86zM5.41 20L4 18.59l7.72-7.72 1.47 1.35L5.41 20z\"/>\n",
              "  </svg>\n",
              "      </button>\n",
              "      \n",
              "  <style>\n",
              "    .colab-df-container {\n",
              "      display:flex;\n",
              "      flex-wrap:wrap;\n",
              "      gap: 12px;\n",
              "    }\n",
              "\n",
              "    .colab-df-convert {\n",
              "      background-color: #E8F0FE;\n",
              "      border: none;\n",
              "      border-radius: 50%;\n",
              "      cursor: pointer;\n",
              "      display: none;\n",
              "      fill: #1967D2;\n",
              "      height: 32px;\n",
              "      padding: 0 0 0 0;\n",
              "      width: 32px;\n",
              "    }\n",
              "\n",
              "    .colab-df-convert:hover {\n",
              "      background-color: #E2EBFA;\n",
              "      box-shadow: 0px 1px 2px rgba(60, 64, 67, 0.3), 0px 1px 3px 1px rgba(60, 64, 67, 0.15);\n",
              "      fill: #174EA6;\n",
              "    }\n",
              "\n",
              "    [theme=dark] .colab-df-convert {\n",
              "      background-color: #3B4455;\n",
              "      fill: #D2E3FC;\n",
              "    }\n",
              "\n",
              "    [theme=dark] .colab-df-convert:hover {\n",
              "      background-color: #434B5C;\n",
              "      box-shadow: 0px 1px 3px 1px rgba(0, 0, 0, 0.15);\n",
              "      filter: drop-shadow(0px 1px 2px rgba(0, 0, 0, 0.3));\n",
              "      fill: #FFFFFF;\n",
              "    }\n",
              "  </style>\n",
              "\n",
              "      <script>\n",
              "        const buttonEl =\n",
              "          document.querySelector('#df-d8c24fec-9e58-4657-9f97-9651b45d7d8b button.colab-df-convert');\n",
              "        buttonEl.style.display =\n",
              "          google.colab.kernel.accessAllowed ? 'block' : 'none';\n",
              "\n",
              "        async function convertToInteractive(key) {\n",
              "          const element = document.querySelector('#df-d8c24fec-9e58-4657-9f97-9651b45d7d8b');\n",
              "          const dataTable =\n",
              "            await google.colab.kernel.invokeFunction('convertToInteractive',\n",
              "                                                     [key], {});\n",
              "          if (!dataTable) return;\n",
              "\n",
              "          const docLinkHtml = 'Like what you see? Visit the ' +\n",
              "            '<a target=\"_blank\" href=https://colab.research.google.com/notebooks/data_table.ipynb>data table notebook</a>'\n",
              "            + ' to learn more about interactive tables.';\n",
              "          element.innerHTML = '';\n",
              "          dataTable['output_type'] = 'display_data';\n",
              "          await google.colab.output.renderOutput(dataTable, element);\n",
              "          const docLink = document.createElement('div');\n",
              "          docLink.innerHTML = docLinkHtml;\n",
              "          element.appendChild(docLink);\n",
              "        }\n",
              "      </script>\n",
              "    </div>\n",
              "  </div>\n",
              "  "
            ]
          },
          "metadata": {},
          "execution_count": 56
        }
      ]
    },
    {
      "cell_type": "markdown",
      "source": [
        "Count Plot\n"
      ],
      "metadata": {
        "id": "Z-XhAOJvEqaT"
      }
    },
    {
      "cell_type": "code",
      "source": [
        "#visualisation of the data using a count plot\n",
        "sns.set_style(\"white\")\n",
        "countplot = sns.countplot(x = \"Drug\",  data = df, palette='Set3', order=['drugY','drugC','drugX', 'drugA' ,'drugB'],saturation=1,linewidth=2,edgecolor=(0,0,0))\n",
        "countplot.set(xlabel = \"drug Groups\", ylabel = \"Frequency\", title = \"Number of patient in Each drug type\")\n",
        "sns.set_context(\"notebook\", font_scale=1, rc={\"lines.linewidth\": 2.5})\n",
        "sns.despine(offset=10, trim=True)"
      ],
      "metadata": {
        "colab": {
          "base_uri": "https://localhost:8080/",
          "height": 311
        },
        "id": "Vej3zHIGErlj",
        "outputId": "544bbf70-12de-4665-d8e1-69d19d3ea083"
      },
      "execution_count": 58,
      "outputs": [
        {
          "output_type": "display_data",
          "data": {
            "text/plain": [
              "<Figure size 432x288 with 1 Axes>"
            ],
            "image/png": "[encoded data removed]"
          },
          "metadata": {}
        }
      ]
    }
  ]
}